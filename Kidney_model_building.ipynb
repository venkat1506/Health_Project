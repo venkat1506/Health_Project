{
 "cells": [
  {
   "cell_type": "code",
   "execution_count": 74,
   "metadata": {
    "id": "FibVOTfeaxjp"
   },
   "outputs": [],
   "source": [
    "import pandas as pd\n",
    "import numpy as np\n",
    "import matplotlib.pyplot as plt\n",
    "import seaborn as sns"
   ]
  },
  {
   "cell_type": "code",
   "execution_count": 75,
   "metadata": {
    "id": "FIOU4j2Jbnsa"
   },
   "outputs": [],
   "source": [
    "df = pd.read_csv(\"Data/kidney.csv\")"
   ]
  },
  {
   "cell_type": "code",
   "execution_count": 76,
   "metadata": {
    "colab": {
     "base_uri": "https://localhost:8080/",
     "height": 197
    },
    "id": "VPzGVNrKb5wm",
    "outputId": "6ae9c858-9fb1-48c3-db2e-1a6bb194fc7b"
   },
   "outputs": [
    {
     "data": {
      "text/html": [
       "<div>\n",
       "<style scoped>\n",
       "    .dataframe tbody tr th:only-of-type {\n",
       "        vertical-align: middle;\n",
       "    }\n",
       "\n",
       "    .dataframe tbody tr th {\n",
       "        vertical-align: top;\n",
       "    }\n",
       "\n",
       "    .dataframe thead th {\n",
       "        text-align: right;\n",
       "    }\n",
       "</style>\n",
       "<table border=\"1\" class=\"dataframe\">\n",
       "  <thead>\n",
       "    <tr style=\"text-align: right;\">\n",
       "      <th></th>\n",
       "      <th>id</th>\n",
       "      <th>age</th>\n",
       "      <th>bp</th>\n",
       "      <th>sg</th>\n",
       "      <th>al</th>\n",
       "      <th>su</th>\n",
       "      <th>rbc</th>\n",
       "      <th>pc</th>\n",
       "      <th>pcc</th>\n",
       "      <th>ba</th>\n",
       "      <th>...</th>\n",
       "      <th>pcv</th>\n",
       "      <th>wc</th>\n",
       "      <th>rc</th>\n",
       "      <th>htn</th>\n",
       "      <th>dm</th>\n",
       "      <th>cad</th>\n",
       "      <th>appet</th>\n",
       "      <th>pe</th>\n",
       "      <th>ane</th>\n",
       "      <th>classification</th>\n",
       "    </tr>\n",
       "  </thead>\n",
       "  <tbody>\n",
       "    <tr>\n",
       "      <th>0</th>\n",
       "      <td>0</td>\n",
       "      <td>48.0</td>\n",
       "      <td>80.0</td>\n",
       "      <td>1.020</td>\n",
       "      <td>1.0</td>\n",
       "      <td>0.0</td>\n",
       "      <td>NaN</td>\n",
       "      <td>normal</td>\n",
       "      <td>notpresent</td>\n",
       "      <td>notpresent</td>\n",
       "      <td>...</td>\n",
       "      <td>44</td>\n",
       "      <td>7800</td>\n",
       "      <td>5.2</td>\n",
       "      <td>yes</td>\n",
       "      <td>yes</td>\n",
       "      <td>no</td>\n",
       "      <td>good</td>\n",
       "      <td>no</td>\n",
       "      <td>no</td>\n",
       "      <td>ckd</td>\n",
       "    </tr>\n",
       "    <tr>\n",
       "      <th>1</th>\n",
       "      <td>1</td>\n",
       "      <td>7.0</td>\n",
       "      <td>50.0</td>\n",
       "      <td>1.020</td>\n",
       "      <td>4.0</td>\n",
       "      <td>0.0</td>\n",
       "      <td>NaN</td>\n",
       "      <td>normal</td>\n",
       "      <td>notpresent</td>\n",
       "      <td>notpresent</td>\n",
       "      <td>...</td>\n",
       "      <td>38</td>\n",
       "      <td>6000</td>\n",
       "      <td>NaN</td>\n",
       "      <td>no</td>\n",
       "      <td>no</td>\n",
       "      <td>no</td>\n",
       "      <td>good</td>\n",
       "      <td>no</td>\n",
       "      <td>no</td>\n",
       "      <td>ckd</td>\n",
       "    </tr>\n",
       "    <tr>\n",
       "      <th>2</th>\n",
       "      <td>2</td>\n",
       "      <td>62.0</td>\n",
       "      <td>80.0</td>\n",
       "      <td>1.010</td>\n",
       "      <td>2.0</td>\n",
       "      <td>3.0</td>\n",
       "      <td>normal</td>\n",
       "      <td>normal</td>\n",
       "      <td>notpresent</td>\n",
       "      <td>notpresent</td>\n",
       "      <td>...</td>\n",
       "      <td>31</td>\n",
       "      <td>7500</td>\n",
       "      <td>NaN</td>\n",
       "      <td>no</td>\n",
       "      <td>yes</td>\n",
       "      <td>no</td>\n",
       "      <td>poor</td>\n",
       "      <td>no</td>\n",
       "      <td>yes</td>\n",
       "      <td>ckd</td>\n",
       "    </tr>\n",
       "    <tr>\n",
       "      <th>3</th>\n",
       "      <td>3</td>\n",
       "      <td>48.0</td>\n",
       "      <td>70.0</td>\n",
       "      <td>1.005</td>\n",
       "      <td>4.0</td>\n",
       "      <td>0.0</td>\n",
       "      <td>normal</td>\n",
       "      <td>abnormal</td>\n",
       "      <td>present</td>\n",
       "      <td>notpresent</td>\n",
       "      <td>...</td>\n",
       "      <td>32</td>\n",
       "      <td>6700</td>\n",
       "      <td>3.9</td>\n",
       "      <td>yes</td>\n",
       "      <td>no</td>\n",
       "      <td>no</td>\n",
       "      <td>poor</td>\n",
       "      <td>yes</td>\n",
       "      <td>yes</td>\n",
       "      <td>ckd</td>\n",
       "    </tr>\n",
       "    <tr>\n",
       "      <th>4</th>\n",
       "      <td>4</td>\n",
       "      <td>51.0</td>\n",
       "      <td>80.0</td>\n",
       "      <td>1.010</td>\n",
       "      <td>2.0</td>\n",
       "      <td>0.0</td>\n",
       "      <td>normal</td>\n",
       "      <td>normal</td>\n",
       "      <td>notpresent</td>\n",
       "      <td>notpresent</td>\n",
       "      <td>...</td>\n",
       "      <td>35</td>\n",
       "      <td>7300</td>\n",
       "      <td>4.6</td>\n",
       "      <td>no</td>\n",
       "      <td>no</td>\n",
       "      <td>no</td>\n",
       "      <td>good</td>\n",
       "      <td>no</td>\n",
       "      <td>no</td>\n",
       "      <td>ckd</td>\n",
       "    </tr>\n",
       "  </tbody>\n",
       "</table>\n",
       "<p>5 rows × 26 columns</p>\n",
       "</div>"
      ],
      "text/plain": [
       "   id   age    bp     sg   al   su     rbc        pc         pcc          ba  \\\n",
       "0   0  48.0  80.0  1.020  1.0  0.0     NaN    normal  notpresent  notpresent   \n",
       "1   1   7.0  50.0  1.020  4.0  0.0     NaN    normal  notpresent  notpresent   \n",
       "2   2  62.0  80.0  1.010  2.0  3.0  normal    normal  notpresent  notpresent   \n",
       "3   3  48.0  70.0  1.005  4.0  0.0  normal  abnormal     present  notpresent   \n",
       "4   4  51.0  80.0  1.010  2.0  0.0  normal    normal  notpresent  notpresent   \n",
       "\n",
       "   ...  pcv    wc   rc  htn   dm  cad appet   pe  ane classification  \n",
       "0  ...   44  7800  5.2  yes  yes   no  good   no   no            ckd  \n",
       "1  ...   38  6000  NaN   no   no   no  good   no   no            ckd  \n",
       "2  ...   31  7500  NaN   no  yes   no  poor   no  yes            ckd  \n",
       "3  ...   32  6700  3.9  yes   no   no  poor  yes  yes            ckd  \n",
       "4  ...   35  7300  4.6   no   no   no  good   no   no            ckd  \n",
       "\n",
       "[5 rows x 26 columns]"
      ]
     },
     "execution_count": 76,
     "metadata": {},
     "output_type": "execute_result"
    }
   ],
   "source": [
    "df.head()"
   ]
  },
  {
   "cell_type": "code",
   "execution_count": 77,
   "metadata": {
    "colab": {
     "base_uri": "https://localhost:8080/"
    },
    "id": "_elZM7E1bwCc",
    "outputId": "dce0d1a3-9b5b-40e2-e2e9-84bd884e319f"
   },
   "outputs": [
    {
     "name": "stdout",
     "output_type": "stream",
     "text": [
      "<class 'pandas.core.frame.DataFrame'>\n",
      "RangeIndex: 400 entries, 0 to 399\n",
      "Data columns (total 26 columns):\n",
      "id                400 non-null int64\n",
      "age               391 non-null float64\n",
      "bp                388 non-null float64\n",
      "sg                353 non-null float64\n",
      "al                354 non-null float64\n",
      "su                351 non-null float64\n",
      "rbc               248 non-null object\n",
      "pc                335 non-null object\n",
      "pcc               396 non-null object\n",
      "ba                396 non-null object\n",
      "bgr               356 non-null float64\n",
      "bu                381 non-null float64\n",
      "sc                383 non-null float64\n",
      "sod               313 non-null float64\n",
      "pot               312 non-null float64\n",
      "hemo              348 non-null float64\n",
      "pcv               330 non-null object\n",
      "wc                295 non-null object\n",
      "rc                270 non-null object\n",
      "htn               398 non-null object\n",
      "dm                398 non-null object\n",
      "cad               398 non-null object\n",
      "appet             399 non-null object\n",
      "pe                399 non-null object\n",
      "ane               399 non-null object\n",
      "classification    400 non-null object\n",
      "dtypes: float64(11), int64(1), object(14)\n",
      "memory usage: 81.3+ KB\n"
     ]
    }
   ],
   "source": [
    "df.info()"
   ]
  },
  {
   "cell_type": "code",
   "execution_count": 78,
   "metadata": {
    "colab": {
     "base_uri": "https://localhost:8080/"
    },
    "id": "Xn38TKHrb3rJ",
    "outputId": "76d07906-9127-4d77-bd0e-49d50152113b"
   },
   "outputs": [
    {
     "data": {
      "text/plain": [
       "rbc               152\n",
       "rc                130\n",
       "wc                105\n",
       "pot                88\n",
       "sod                87\n",
       "pcv                70\n",
       "pc                 65\n",
       "hemo               52\n",
       "su                 49\n",
       "sg                 47\n",
       "al                 46\n",
       "bgr                44\n",
       "bu                 19\n",
       "sc                 17\n",
       "bp                 12\n",
       "age                 9\n",
       "ba                  4\n",
       "pcc                 4\n",
       "htn                 2\n",
       "dm                  2\n",
       "cad                 2\n",
       "ane                 1\n",
       "appet               1\n",
       "pe                  1\n",
       "classification      0\n",
       "id                  0\n",
       "dtype: int64"
      ]
     },
     "execution_count": 78,
     "metadata": {},
     "output_type": "execute_result"
    }
   ],
   "source": [
    "df.isnull().sum().sort_values(ascending=False)"
   ]
  },
  {
   "cell_type": "code",
   "execution_count": 79,
   "metadata": {
    "id": "OCwW1o11edEd"
   },
   "outputs": [],
   "source": [
    "cols_names={\"bp\":\"blood_pressure\",\n",
    "          \"sg\":\"specific_gravity\",\n",
    "          \"al\":\"albumin\",\n",
    "          \"su\":\"sugar\",\n",
    "          \"rbc\":\"red_blood_cells\",\n",
    "          \"pc\":\"pus_cell\",\n",
    "          \"pcc\":\"pus_cell_clumps\",\n",
    "          \"ba\":\"bacteria\",\n",
    "          \"bgr\":\"blood_glucose_random\",\n",
    "          \"bu\":\"blood_urea\",\n",
    "          \"sc\":\"serum_creatinine\",\n",
    "          \"sod\":\"sodium\",\n",
    "          \"pot\":\"potassium\",\n",
    "          \"hemo\":\"haemoglobin\",\n",
    "          \"pcv\":\"packed_cell_volume\",\n",
    "          \"wc\":\"white_blood_cell_count\",\n",
    "          \"rc\":\"red_blood_cell_count\",\n",
    "          \"htn\":\"hypertension\",\n",
    "          \"dm\":\"diabetes_mellitus\",\n",
    "          \"cad\":\"coronary_artery_disease\",\n",
    "          \"appet\":\"appetite\",\n",
    "          \"pe\":\"pedal_edema\",\n",
    "          \"ane\":\"anemia\"}\n",
    "\n",
    "df.rename(columns=cols_names, inplace=True)"
   ]
  },
  {
   "cell_type": "code",
   "execution_count": 80,
   "metadata": {
    "id": "LmtFq9jDd4em"
   },
   "outputs": [],
   "source": [
    "numerical_features = []\n",
    "categorical_features = []\n",
    "\n",
    "for i in df.columns:\n",
    "    if df[i].nunique()>7:\n",
    "        numerical_features.append(i)\n",
    "    else:\n",
    "        categorical_features.append(i)"
   ]
  },
  {
   "cell_type": "code",
   "execution_count": 81,
   "metadata": {
    "colab": {
     "base_uri": "https://localhost:8080/"
    },
    "id": "1Gi9kuE4eOo7",
    "outputId": "f6d2b0d7-1e96-4253-e46e-a61fd1772d88"
   },
   "outputs": [
    {
     "name": "stdout",
     "output_type": "stream",
     "text": [
      "specific_gravity has [1.02  1.01  1.005 1.015   nan 1.025] categories.\n",
      "\n",
      "albumin has [ 1.  4.  2.  3.  0. nan  5.] categories.\n",
      "\n",
      "sugar has [ 0.  3.  4.  1. nan  2.  5.] categories.\n",
      "\n",
      "red_blood_cells has [nan 'normal' 'abnormal'] categories.\n",
      "\n",
      "pus_cell has ['normal' 'abnormal' nan] categories.\n",
      "\n",
      "pus_cell_clumps has ['notpresent' 'present' nan] categories.\n",
      "\n",
      "bacteria has ['notpresent' 'present' nan] categories.\n",
      "\n",
      "hypertension has ['yes' 'no' nan] categories.\n",
      "\n",
      "diabetes_mellitus has ['yes' 'no' ' yes' '\\tno' '\\tyes' nan] categories.\n",
      "\n",
      "coronary_artery_disease has ['no' 'yes' '\\tno' nan] categories.\n",
      "\n",
      "appetite has ['good' 'poor' nan] categories.\n",
      "\n",
      "pedal_edema has ['no' 'yes' nan] categories.\n",
      "\n",
      "anemia has ['no' 'yes' nan] categories.\n",
      "\n",
      "classification has ['ckd' 'ckd\\t' 'notckd'] categories.\n",
      "\n"
     ]
    }
   ],
   "source": [
    "for feats in categorical_features:\n",
    "    print(f'{feats} has {df[feats].unique()} categories.\\n')"
   ]
  },
  {
   "cell_type": "code",
   "execution_count": 82,
   "metadata": {
    "id": "YkUMQANXeP2S"
   },
   "outputs": [],
   "source": [
    "df['diabetes_mellitus'] = df['diabetes_mellitus'].replace(to_replace = {'no':'no','yes':'yes',' yes':'yes'})\n",
    "df['coronary_artery_disease'] = df['coronary_artery_disease'].replace(to_replace = 'no', value='no')\n",
    "df['classification'] = df['classification'].replace(to_replace = 'ckd', value = 'ckd')"
   ]
  },
  {
   "cell_type": "code",
   "execution_count": 83,
   "metadata": {
    "colab": {
     "base_uri": "https://localhost:8080/"
    },
    "id": "6wmyzRkTeoFT",
    "outputId": "5dd15368-0e61-45e0-9edc-19cc59109535"
   },
   "outputs": [
    {
     "name": "stdout",
     "output_type": "stream",
     "text": [
      "specific_gravity has [1.02  1.01  1.005 1.015   nan 1.025] categories.\n",
      "\n",
      "albumin has [ 1.  4.  2.  3.  0. nan  5.] categories.\n",
      "\n",
      "sugar has [ 0.  3.  4.  1. nan  2.  5.] categories.\n",
      "\n",
      "red_blood_cells has [nan 'normal' 'abnormal'] categories.\n",
      "\n",
      "pus_cell has ['normal' 'abnormal' nan] categories.\n",
      "\n",
      "pus_cell_clumps has ['notpresent' 'present' nan] categories.\n",
      "\n",
      "bacteria has ['notpresent' 'present' nan] categories.\n",
      "\n",
      "hypertension has ['yes' 'no' nan] categories.\n",
      "\n",
      "diabetes_mellitus has ['yes' 'no' '\\tno' '\\tyes' nan] categories.\n",
      "\n",
      "coronary_artery_disease has ['no' 'yes' '\\tno' nan] categories.\n",
      "\n",
      "appetite has ['good' 'poor' nan] categories.\n",
      "\n",
      "pedal_edema has ['no' 'yes' nan] categories.\n",
      "\n",
      "anemia has ['no' 'yes' nan] categories.\n",
      "\n",
      "classification has ['ckd' 'ckd\\t' 'notckd'] categories.\n",
      "\n"
     ]
    }
   ],
   "source": [
    "for feats in categorical_features:\n",
    "    print(f'{feats} has {df[feats].unique()} categories.\\n')"
   ]
  },
  {
   "cell_type": "code",
   "execution_count": 84,
   "metadata": {
    "colab": {
     "base_uri": "https://localhost:8080/",
     "height": 1000
    },
    "id": "UeoInN_xd1r_",
    "outputId": "4adb0272-ca18-45fd-d124-2c65a4c57d5d"
   },
   "outputs": [
    {
     "name": "stderr",
     "output_type": "stream",
     "text": [
      "c:\\users\\sreek\\appdata\\local\\programs\\python\\python37\\lib\\site-packages\\matplotlib\\backends\\backend_agg.py:214: RuntimeWarning: Glyph 9 missing from current font.\n",
      "  font.set_text(s, 0.0, flags=flags)\n",
      "c:\\users\\sreek\\appdata\\local\\programs\\python\\python37\\lib\\site-packages\\matplotlib\\backends\\backend_agg.py:183: RuntimeWarning: Glyph 9 missing from current font.\n",
      "  font.set_text(s, 0, flags=flags)\n"
     ]
    },
    {
     "data": {
      "image/png": "[encoded data removed]",
      "text/plain": [
       "<Figure size 1080x1080 with 15 Axes>"
      ]
     },
     "metadata": {
      "needs_background": "light"
     },
     "output_type": "display_data"
    }
   ],
   "source": [
    "fig, axes = plt.subplots(nrows=5, ncols=3, figsize=(15,15))\n",
    "fig.subplots_adjust(hspace=0.5)\n",
    "fig.suptitle('Distributions of categorical Features')\n",
    "\n",
    "\n",
    "for ax, feats in zip(axes.flatten(), categorical_features):\n",
    "    sns.countplot(df[feats], ax=ax)"
   ]
  },
  {
   "cell_type": "code",
   "execution_count": 85,
   "metadata": {
    "colab": {
     "base_uri": "https://localhost:8080/",
     "height": 330
    },
    "id": "kLxoQhMjlME2",
    "outputId": "56ce5a1e-980c-4c35-d3cd-f22eedab6c9d"
   },
   "outputs": [
    {
     "data": {
      "image/png": "[encoded data removed]",
      "text/plain": [
       "<Figure size 432x288 with 1 Axes>"
      ]
     },
     "metadata": {
      "needs_background": "light"
     },
     "output_type": "display_data"
    },
    {
     "name": "stdout",
     "output_type": "stream",
     "text": [
      "Percent of chronic kidney disease sample:  62.0 %\n",
      "Percent of not a chronic kidney disease sample:  37.5 %\n"
     ]
    }
   ],
   "source": [
    "sns.countplot(x='classification',data=df)\n",
    "plt.xlabel(\"classification\")\n",
    "plt.ylabel(\"Count\")\n",
    "plt.title(\"target Class\")\n",
    "plt.show()\n",
    "print('Percent of chronic kidney disease sample: ',round(len(df[df['classification']=='ckd'])/len(df['classification'])*100,2),\"%\")\n",
    "print('Percent of not a chronic kidney disease sample: ',round(len(df[df['classification']=='notckd'])/len(df['classification'])*100,2),\"%\")"
   ]
  },
  {
   "cell_type": "code",
   "execution_count": 86,
   "metadata": {
    "colab": {
     "base_uri": "https://localhost:8080/",
     "height": 868
    },
    "id": "WfP1xwnwghrc",
    "outputId": "835ddfc1-60f1-4e00-da0b-6ea648bb44a0"
   },
   "outputs": [
    {
     "data": {
      "image/png": "[encoded data removed]",
      "text/plain": [
       "<Figure size 1080x1080 with 2 Axes>"
      ]
     },
     "metadata": {
      "needs_background": "light"
     },
     "output_type": "display_data"
    }
   ],
   "source": [
    "corr_df = df.corr()\n",
    "f,ax=plt.subplots(figsize=(15,15))\n",
    "mask = np.zeros_like(corr_df)\n",
    "mask[np.triu_indices_from(mask)] = True\n",
    "sns.heatmap(corr_df,annot=True,fmt=\".2f\",ax=ax,linewidths=0.5,linecolor=\"orange\", mask = mask, square=True)\n",
    "plt.xticks(rotation=45)\n",
    "plt.yticks(rotation=45)\n",
    "plt.title('Correlations between different features')\n",
    "plt.show()"
   ]
  },
  {
   "cell_type": "code",
   "execution_count": 87,
   "metadata": {
    "id": "Qd7XcAMlhVqC"
   },
   "outputs": [],
   "source": [
    "import numpy as np\n",
    "import pandas as pd\n",
    "from sklearn import ensemble\n",
    "from sklearn.model_selection import train_test_split\n",
    "from sklearn.metrics import accuracy_score, classification_report, confusion_matrix\n",
    "import joblib"
   ]
  },
  {
   "cell_type": "code",
   "execution_count": 88,
   "metadata": {},
   "outputs": [],
   "source": [
    "df = pd.read_csv(\"Data/kidney.csv\")\n",
    "df[['htn','dm','cad','pe','ane']] = df[['htn','dm','cad','pe','ane']].replace(to_replace={'yes':1,'no':0})\n",
    "df[['rbc','pc']] = df[['rbc','pc']].replace(to_replace={'abnormal':1,'normal':0})\n",
    "df[['pcc','ba']] = df[['pcc','ba']].replace(to_replace={'present':1,'notpresent':0})\n",
    "df[['appet']] = df[['appet']].replace(to_replace={'good':1,'poor':0,'no':np.nan})\n",
    "df['classification'] = df['classification'].replace(to_replace={'ckd':1.0,'ckd\\t':1.0,'notckd':0.0,'no':0.0})\n",
    "df.rename(columns={'classification':'class'},inplace=True)\n",
    "df['pe'] = df['pe'].replace(to_replace='good',value=0)\n",
    "df['appet'] = df['appet'].replace(to_replace='no',value=0)\n",
    "df['cad'] = df['cad'].replace(to_replace='\\tno',value=0)\n",
    "df['dm'] = df['dm'].replace(to_replace={'\\tno':0,'\\tyes':1,' yes':1, '':np.nan})"
   ]
  },
  {
   "cell_type": "code",
   "execution_count": 89,
   "metadata": {},
   "outputs": [],
   "source": [
    "df.drop('id',axis=1,inplace=True)\n",
    "df = df.dropna(axis=0)"
   ]
  },
  {
   "cell_type": "code",
   "execution_count": 92,
   "metadata": {},
   "outputs": [
    {
     "data": {
      "text/html": [
       "<div>\n",
       "<style scoped>\n",
       "    .dataframe tbody tr th:only-of-type {\n",
       "        vertical-align: middle;\n",
       "    }\n",
       "\n",
       "    .dataframe tbody tr th {\n",
       "        vertical-align: top;\n",
       "    }\n",
       "\n",
       "    .dataframe thead th {\n",
       "        text-align: right;\n",
       "    }\n",
       "</style>\n",
       "<table border=\"1\" class=\"dataframe\">\n",
       "  <thead>\n",
       "    <tr style=\"text-align: right;\">\n",
       "      <th></th>\n",
       "      <th>age</th>\n",
       "      <th>bp</th>\n",
       "      <th>sg</th>\n",
       "      <th>al</th>\n",
       "      <th>su</th>\n",
       "      <th>rbc</th>\n",
       "      <th>pc</th>\n",
       "      <th>pcc</th>\n",
       "      <th>ba</th>\n",
       "      <th>bgr</th>\n",
       "      <th>...</th>\n",
       "      <th>pcv</th>\n",
       "      <th>wc</th>\n",
       "      <th>rc</th>\n",
       "      <th>htn</th>\n",
       "      <th>dm</th>\n",
       "      <th>cad</th>\n",
       "      <th>appet</th>\n",
       "      <th>pe</th>\n",
       "      <th>ane</th>\n",
       "      <th>class</th>\n",
       "    </tr>\n",
       "  </thead>\n",
       "  <tbody>\n",
       "    <tr>\n",
       "      <th>3</th>\n",
       "      <td>48.0</td>\n",
       "      <td>70.0</td>\n",
       "      <td>1.0</td>\n",
       "      <td>4.0</td>\n",
       "      <td>0.0</td>\n",
       "      <td>0.0</td>\n",
       "      <td>1.0</td>\n",
       "      <td>1.0</td>\n",
       "      <td>0.0</td>\n",
       "      <td>117.0</td>\n",
       "      <td>...</td>\n",
       "      <td>32.0</td>\n",
       "      <td>6700.0</td>\n",
       "      <td>3.9</td>\n",
       "      <td>1.0</td>\n",
       "      <td>0.0</td>\n",
       "      <td>0.0</td>\n",
       "      <td>0.0</td>\n",
       "      <td>1.0</td>\n",
       "      <td>1.0</td>\n",
       "      <td>1.0</td>\n",
       "    </tr>\n",
       "    <tr>\n",
       "      <th>9</th>\n",
       "      <td>53.0</td>\n",
       "      <td>90.0</td>\n",
       "      <td>1.0</td>\n",
       "      <td>2.0</td>\n",
       "      <td>0.0</td>\n",
       "      <td>1.0</td>\n",
       "      <td>1.0</td>\n",
       "      <td>1.0</td>\n",
       "      <td>0.0</td>\n",
       "      <td>70.0</td>\n",
       "      <td>...</td>\n",
       "      <td>29.0</td>\n",
       "      <td>12100.0</td>\n",
       "      <td>3.7</td>\n",
       "      <td>1.0</td>\n",
       "      <td>1.0</td>\n",
       "      <td>0.0</td>\n",
       "      <td>0.0</td>\n",
       "      <td>0.0</td>\n",
       "      <td>1.0</td>\n",
       "      <td>1.0</td>\n",
       "    </tr>\n",
       "    <tr>\n",
       "      <th>11</th>\n",
       "      <td>63.0</td>\n",
       "      <td>70.0</td>\n",
       "      <td>1.0</td>\n",
       "      <td>3.0</td>\n",
       "      <td>0.0</td>\n",
       "      <td>1.0</td>\n",
       "      <td>1.0</td>\n",
       "      <td>1.0</td>\n",
       "      <td>0.0</td>\n",
       "      <td>380.0</td>\n",
       "      <td>...</td>\n",
       "      <td>32.0</td>\n",
       "      <td>4500.0</td>\n",
       "      <td>3.8</td>\n",
       "      <td>1.0</td>\n",
       "      <td>1.0</td>\n",
       "      <td>0.0</td>\n",
       "      <td>0.0</td>\n",
       "      <td>1.0</td>\n",
       "      <td>0.0</td>\n",
       "      <td>1.0</td>\n",
       "    </tr>\n",
       "    <tr>\n",
       "      <th>14</th>\n",
       "      <td>68.0</td>\n",
       "      <td>80.0</td>\n",
       "      <td>1.0</td>\n",
       "      <td>3.0</td>\n",
       "      <td>2.0</td>\n",
       "      <td>0.0</td>\n",
       "      <td>1.0</td>\n",
       "      <td>1.0</td>\n",
       "      <td>1.0</td>\n",
       "      <td>157.0</td>\n",
       "      <td>...</td>\n",
       "      <td>16.0</td>\n",
       "      <td>11000.0</td>\n",
       "      <td>2.6</td>\n",
       "      <td>1.0</td>\n",
       "      <td>1.0</td>\n",
       "      <td>1.0</td>\n",
       "      <td>0.0</td>\n",
       "      <td>1.0</td>\n",
       "      <td>0.0</td>\n",
       "      <td>1.0</td>\n",
       "    </tr>\n",
       "    <tr>\n",
       "      <th>20</th>\n",
       "      <td>61.0</td>\n",
       "      <td>80.0</td>\n",
       "      <td>1.0</td>\n",
       "      <td>2.0</td>\n",
       "      <td>0.0</td>\n",
       "      <td>1.0</td>\n",
       "      <td>1.0</td>\n",
       "      <td>0.0</td>\n",
       "      <td>0.0</td>\n",
       "      <td>173.0</td>\n",
       "      <td>...</td>\n",
       "      <td>24.0</td>\n",
       "      <td>9200.0</td>\n",
       "      <td>3.2</td>\n",
       "      <td>1.0</td>\n",
       "      <td>1.0</td>\n",
       "      <td>1.0</td>\n",
       "      <td>0.0</td>\n",
       "      <td>1.0</td>\n",
       "      <td>1.0</td>\n",
       "      <td>1.0</td>\n",
       "    </tr>\n",
       "  </tbody>\n",
       "</table>\n",
       "<p>5 rows × 25 columns</p>\n",
       "</div>"
      ],
      "text/plain": [
       "     age    bp   sg   al   su  rbc   pc  pcc   ba    bgr  ...   pcv       wc  \\\n",
       "3   48.0  70.0  1.0  4.0  0.0  0.0  1.0  1.0  0.0  117.0  ...  32.0   6700.0   \n",
       "9   53.0  90.0  1.0  2.0  0.0  1.0  1.0  1.0  0.0   70.0  ...  29.0  12100.0   \n",
       "11  63.0  70.0  1.0  3.0  0.0  1.0  1.0  1.0  0.0  380.0  ...  32.0   4500.0   \n",
       "14  68.0  80.0  1.0  3.0  2.0  0.0  1.0  1.0  1.0  157.0  ...  16.0  11000.0   \n",
       "20  61.0  80.0  1.0  2.0  0.0  1.0  1.0  0.0  0.0  173.0  ...  24.0   9200.0   \n",
       "\n",
       "     rc  htn   dm  cad  appet   pe  ane  class  \n",
       "3   3.9  1.0  0.0  0.0    0.0  1.0  1.0    1.0  \n",
       "9   3.7  1.0  1.0  0.0    0.0  0.0  1.0    1.0  \n",
       "11  3.8  1.0  1.0  0.0    0.0  1.0  0.0    1.0  \n",
       "14  2.6  1.0  1.0  1.0    0.0  1.0  0.0    1.0  \n",
       "20  3.2  1.0  1.0  1.0    0.0  1.0  1.0    1.0  \n",
       "\n",
       "[5 rows x 25 columns]"
      ]
     },
     "execution_count": 92,
     "metadata": {},
     "output_type": "execute_result"
    }
   ],
   "source": [
    "for col in df.columns:\n",
    "    df[col] = df[col].astype(np.float)\n",
    "\n",
    "df.head()"
   ]
  },
  {
   "cell_type": "code",
   "execution_count": 93,
   "metadata": {},
   "outputs": [
    {
     "data": {
      "text/html": [
       "<div>\n",
       "<style scoped>\n",
       "    .dataframe tbody tr th:only-of-type {\n",
       "        vertical-align: middle;\n",
       "    }\n",
       "\n",
       "    .dataframe tbody tr th {\n",
       "        vertical-align: top;\n",
       "    }\n",
       "\n",
       "    .dataframe thead th {\n",
       "        text-align: right;\n",
       "    }\n",
       "</style>\n",
       "<table border=\"1\" class=\"dataframe\">\n",
       "  <thead>\n",
       "    <tr style=\"text-align: right;\">\n",
       "      <th></th>\n",
       "      <th>age</th>\n",
       "      <th>bp</th>\n",
       "      <th>sg</th>\n",
       "      <th>al</th>\n",
       "      <th>su</th>\n",
       "      <th>rbc</th>\n",
       "      <th>pc</th>\n",
       "      <th>pcc</th>\n",
       "      <th>ba</th>\n",
       "      <th>bgr</th>\n",
       "      <th>...</th>\n",
       "      <th>pcv</th>\n",
       "      <th>wc</th>\n",
       "      <th>rc</th>\n",
       "      <th>htn</th>\n",
       "      <th>dm</th>\n",
       "      <th>cad</th>\n",
       "      <th>appet</th>\n",
       "      <th>pe</th>\n",
       "      <th>ane</th>\n",
       "      <th>class</th>\n",
       "    </tr>\n",
       "  </thead>\n",
       "  <tbody>\n",
       "    <tr>\n",
       "      <th>3</th>\n",
       "      <td>48.0</td>\n",
       "      <td>70.0</td>\n",
       "      <td>1.0</td>\n",
       "      <td>4.0</td>\n",
       "      <td>0.0</td>\n",
       "      <td>0.0</td>\n",
       "      <td>1.0</td>\n",
       "      <td>1.0</td>\n",
       "      <td>0.0</td>\n",
       "      <td>117.0</td>\n",
       "      <td>...</td>\n",
       "      <td>32.0</td>\n",
       "      <td>6700.0</td>\n",
       "      <td>3.9</td>\n",
       "      <td>1.0</td>\n",
       "      <td>0.0</td>\n",
       "      <td>0.0</td>\n",
       "      <td>0.0</td>\n",
       "      <td>1.0</td>\n",
       "      <td>1.0</td>\n",
       "      <td>1.0</td>\n",
       "    </tr>\n",
       "    <tr>\n",
       "      <th>9</th>\n",
       "      <td>53.0</td>\n",
       "      <td>90.0</td>\n",
       "      <td>1.0</td>\n",
       "      <td>2.0</td>\n",
       "      <td>0.0</td>\n",
       "      <td>1.0</td>\n",
       "      <td>1.0</td>\n",
       "      <td>1.0</td>\n",
       "      <td>0.0</td>\n",
       "      <td>70.0</td>\n",
       "      <td>...</td>\n",
       "      <td>29.0</td>\n",
       "      <td>12100.0</td>\n",
       "      <td>3.7</td>\n",
       "      <td>1.0</td>\n",
       "      <td>1.0</td>\n",
       "      <td>0.0</td>\n",
       "      <td>0.0</td>\n",
       "      <td>0.0</td>\n",
       "      <td>1.0</td>\n",
       "      <td>1.0</td>\n",
       "    </tr>\n",
       "    <tr>\n",
       "      <th>11</th>\n",
       "      <td>63.0</td>\n",
       "      <td>70.0</td>\n",
       "      <td>1.0</td>\n",
       "      <td>3.0</td>\n",
       "      <td>0.0</td>\n",
       "      <td>1.0</td>\n",
       "      <td>1.0</td>\n",
       "      <td>1.0</td>\n",
       "      <td>0.0</td>\n",
       "      <td>380.0</td>\n",
       "      <td>...</td>\n",
       "      <td>32.0</td>\n",
       "      <td>4500.0</td>\n",
       "      <td>3.8</td>\n",
       "      <td>1.0</td>\n",
       "      <td>1.0</td>\n",
       "      <td>0.0</td>\n",
       "      <td>0.0</td>\n",
       "      <td>1.0</td>\n",
       "      <td>0.0</td>\n",
       "      <td>1.0</td>\n",
       "    </tr>\n",
       "    <tr>\n",
       "      <th>14</th>\n",
       "      <td>68.0</td>\n",
       "      <td>80.0</td>\n",
       "      <td>1.0</td>\n",
       "      <td>3.0</td>\n",
       "      <td>2.0</td>\n",
       "      <td>0.0</td>\n",
       "      <td>1.0</td>\n",
       "      <td>1.0</td>\n",
       "      <td>1.0</td>\n",
       "      <td>157.0</td>\n",
       "      <td>...</td>\n",
       "      <td>16.0</td>\n",
       "      <td>11000.0</td>\n",
       "      <td>2.6</td>\n",
       "      <td>1.0</td>\n",
       "      <td>1.0</td>\n",
       "      <td>1.0</td>\n",
       "      <td>0.0</td>\n",
       "      <td>1.0</td>\n",
       "      <td>0.0</td>\n",
       "      <td>1.0</td>\n",
       "    </tr>\n",
       "    <tr>\n",
       "      <th>20</th>\n",
       "      <td>61.0</td>\n",
       "      <td>80.0</td>\n",
       "      <td>1.0</td>\n",
       "      <td>2.0</td>\n",
       "      <td>0.0</td>\n",
       "      <td>1.0</td>\n",
       "      <td>1.0</td>\n",
       "      <td>0.0</td>\n",
       "      <td>0.0</td>\n",
       "      <td>173.0</td>\n",
       "      <td>...</td>\n",
       "      <td>24.0</td>\n",
       "      <td>9200.0</td>\n",
       "      <td>3.2</td>\n",
       "      <td>1.0</td>\n",
       "      <td>1.0</td>\n",
       "      <td>1.0</td>\n",
       "      <td>0.0</td>\n",
       "      <td>1.0</td>\n",
       "      <td>1.0</td>\n",
       "      <td>1.0</td>\n",
       "    </tr>\n",
       "  </tbody>\n",
       "</table>\n",
       "<p>5 rows × 25 columns</p>\n",
       "</div>"
      ],
      "text/plain": [
       "     age    bp   sg   al   su  rbc   pc  pcc   ba    bgr  ...   pcv       wc  \\\n",
       "3   48.0  70.0  1.0  4.0  0.0  0.0  1.0  1.0  0.0  117.0  ...  32.0   6700.0   \n",
       "9   53.0  90.0  1.0  2.0  0.0  1.0  1.0  1.0  0.0   70.0  ...  29.0  12100.0   \n",
       "11  63.0  70.0  1.0  3.0  0.0  1.0  1.0  1.0  0.0  380.0  ...  32.0   4500.0   \n",
       "14  68.0  80.0  1.0  3.0  2.0  0.0  1.0  1.0  1.0  157.0  ...  16.0  11000.0   \n",
       "20  61.0  80.0  1.0  2.0  0.0  1.0  1.0  0.0  0.0  173.0  ...  24.0   9200.0   \n",
       "\n",
       "     rc  htn   dm  cad  appet   pe  ane  class  \n",
       "3   3.9  1.0  0.0  0.0    0.0  1.0  1.0    1.0  \n",
       "9   3.7  1.0  1.0  0.0    0.0  0.0  1.0    1.0  \n",
       "11  3.8  1.0  1.0  0.0    0.0  1.0  0.0    1.0  \n",
       "14  2.6  1.0  1.0  1.0    0.0  1.0  0.0    1.0  \n",
       "20  3.2  1.0  1.0  1.0    0.0  1.0  1.0    1.0  \n",
       "\n",
       "[5 rows x 25 columns]"
      ]
     },
     "execution_count": 93,
     "metadata": {},
     "output_type": "execute_result"
    }
   ],
   "source": [
    "df.head(5)"
   ]
  },
  {
   "cell_type": "code",
   "execution_count": 94,
   "metadata": {},
   "outputs": [],
   "source": [
    "cols = ['bp', 'sg', 'al', 'su', 'rbc', 'pc', 'pcc']\n",
    "X = df[cols]\n",
    "y = df['class']"
   ]
  },
  {
   "cell_type": "code",
   "execution_count": 96,
   "metadata": {},
   "outputs": [
    {
     "name": "stdout",
     "output_type": "stream",
     "text": [
      "Shape training set: X:(105, 7), y:(105,)\n",
      "Shape test set: X:(53, 7), y:(53,)\n"
     ]
    }
   ],
   "source": [
    "X_train, X_test, y_train, y_test = train_test_split(X, y, test_size = 0.33, random_state=44, stratify= y)\n",
    "print('Shape training set: X:{}, y:{}'.format(X_train.shape, y_train.shape))\n",
    "print('Shape test set: X:{}, y:{}'.format(X_test.shape, y_test.shape))"
   ]
  },
  {
   "cell_type": "code",
   "execution_count": 98,
   "metadata": {},
   "outputs": [
    {
     "name": "stdout",
     "output_type": "stream",
     "text": [
      "Accuracy : 0.9811320754716981\n"
     ]
    }
   ],
   "source": [
    "model = ensemble.RandomForestClassifier()\n",
    "model.fit(X_train, y_train)\n",
    "y_pred = model.predict(X_test)\n",
    "print('Accuracy : {}'.format(accuracy_score(y_test, y_pred)))"
   ]
  },
  {
   "cell_type": "code",
   "execution_count": 99,
   "metadata": {},
   "outputs": [
    {
     "name": "stdout",
     "output_type": "stream",
     "text": [
      "Classification report\n",
      "---------------------\n",
      "              precision    recall  f1-score   support\n",
      "\n",
      "         0.0       0.97      1.00      0.99        39\n",
      "         1.0       1.00      0.93      0.96        14\n",
      "\n",
      "    accuracy                           0.98        53\n",
      "   macro avg       0.99      0.96      0.98        53\n",
      "weighted avg       0.98      0.98      0.98        53\n",
      "\n",
      "_____________________\n"
     ]
    }
   ],
   "source": [
    "clf_report = classification_report(y_test, y_pred)\n",
    "print('Classification report')\n",
    "print(\"---------------------\")\n",
    "print(clf_report)\n",
    "print(\"_____________________\")"
   ]
  },
  {
   "cell_type": "code",
   "execution_count": 100,
   "metadata": {},
   "outputs": [
    {
     "data": {
      "text/plain": [
       "['Model\\\\kidney_model.pkl']"
      ]
     },
     "execution_count": 100,
     "metadata": {},
     "output_type": "execute_result"
    }
   ],
   "source": [
    "joblib.dump(model,r\"Model\\kidney_model.pkl\")"
   ]
  },
  {
   "cell_type": "code",
   "execution_count": null,
   "metadata": {},
   "outputs": [],
   "source": []
  }
 ],
 "metadata": {
  "colab": {
   "authorship_tag": "ABX9TyOMbQoOwKjsSXIESfX2EvrM",
   "include_colab_link": true,
   "name": "Kidney EDA.ipynb",
   "provenance": []
  },
  "kernelspec": {
   "display_name": "Python 3",
   "language": "python",
   "name": "python3"
  },
  "language_info": {
   "codemirror_mode": {
    "name": "ipython",
    "version": 3
   },
   "file_extension": ".py",
   "mimetype": "text/x-python",
   "name": "python",
   "nbconvert_exporter": "python",
   "pygments_lexer": "ipython3",
   "version": "3.7.9"
  }
 },
 "nbformat": 4,
 "nbformat_minor": 1
}
